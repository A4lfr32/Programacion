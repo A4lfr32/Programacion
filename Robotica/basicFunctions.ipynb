{
 "metadata": {
  "language_info": {
   "codemirror_mode": {
    "name": "ipython",
    "version": 3
   },
   "file_extension": ".py",
   "mimetype": "text/x-python",
   "name": "python",
   "nbconvert_exporter": "python",
   "pygments_lexer": "ipython3",
   "version": "3.7.6-final"
  },
  "orig_nbformat": 2,
  "kernelspec": {
   "name": "python_defaultSpec_1599075480339",
   "display_name": "Python 3.7.6 64-bit"
  }
 },
 "nbformat": 4,
 "nbformat_minor": 2,
 "cells": [
  {
   "cell_type": "code",
   "execution_count": 9,
   "metadata": {},
   "outputs": [],
   "source": [
    "import numpy as np"
   ]
  },
  {
   "cell_type": "code",
   "execution_count": 113,
   "metadata": {},
   "outputs": [],
   "source": [
    "\n",
    "def vect_trasladar(x,y,z):\n",
    "    return np.array([[x],[y],[z]])\n",
    "def mRotacion(R,p):\n",
    "    m_homogenea=np.concatenate((R,p),axis=1)\n",
    "    m_homogenea=np.concatenate((m_homogenea,np.array([[0,0,0,1]])),axis=0)\n",
    "    return m_homogenea\n",
    "def rotz(theta):\n",
    "    # Rotacion homogenea en z\n",
    "    return np.array([[np.cos(theta),-np.sin(theta),0],[np.sin(theta),np.cos(theta),0],[0,0,1]])\n",
    "def roty(theta):\n",
    "    return np.array([[np.cos(theta),0,np.sin(theta)],[0,1,0],[-np.sin(theta),0,np.cos(theta)]])\n",
    "def rotx(theta):\n",
    "    return np.array([[1,0,0],[0,np.cos(theta),-np.sin(theta)],[0,np.sin(theta),np.cos(theta)]])"
   ]
  },
  {
   "cell_type": "code",
   "execution_count": 116,
   "metadata": {
    "tags": []
   },
   "outputs": [
    {
     "output_type": "execute_result",
     "data": {
      "text/plain": "array([[ 1.000000e+00,  0.000000e+00,  0.000000e+00,  1.000000e+00],\n       [ 0.000000e+00,  6.123234e-17, -1.000000e+00,  2.000000e+00],\n       [ 0.000000e+00,  1.000000e+00,  6.123234e-17,  3.000000e+00],\n       [ 0.000000e+00,  0.000000e+00,  0.000000e+00,  1.000000e+00]])"
     },
     "metadata": {},
     "execution_count": 116
    }
   ],
   "source": [
    "mRotacion(rotx(np.pi/2),vect_trasladar(1,2,3))"
   ]
  },
  {
   "cell_type": "code",
   "execution_count": null,
   "metadata": {},
   "outputs": [],
   "source": []
  }
 ]
}