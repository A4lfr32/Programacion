{
 "metadata": {
  "language_info": {
   "codemirror_mode": {
    "name": "ipython",
    "version": 3
   },
   "file_extension": ".py",
   "mimetype": "text/x-python",
   "name": "python",
   "nbconvert_exporter": "python",
   "pygments_lexer": "ipython3",
   "version": "3.7.6-final"
  },
  "orig_nbformat": 2,
  "kernelspec": {
   "name": "python_defaultSpec_1598973405637",
   "display_name": "Python 3.7.6 64-bit"
  }
 },
 "nbformat": 4,
 "nbformat_minor": 2,
 "cells": [
  {
   "cell_type": "code",
   "execution_count": 4,
   "metadata": {},
   "outputs": [],
   "source": [
    "import numpy as np"
   ]
  },
  {
   "cell_type": "markdown",
   "metadata": {},
   "source": [
    "### Rotación con la matríz de rotación\n",
    "$${\\displaystyle R(\\theta )={\\begin{bmatrix}\\cos \\theta &-\\sin \\theta \\\\[3pt]\\sin \\theta &\\cos \\theta \\\\\\end{bmatrix}}}$$"
   ]
  },
  {
   "cell_type": "code",
   "execution_count": 33,
   "metadata": {},
   "outputs": [
    {
     "output_type": "execute_result",
     "data": {
      "text/plain": "array([[3],\n       [4]])"
     },
     "metadata": {},
     "execution_count": 33
    }
   ],
   "source": [
    "coordenadasOrg=np.array([[3],[4]]) # Punto en coordenadas (x,y)\n",
    "\n",
    "SistemaCoordenado=np.array([[1,0],[0,1]]) # Sistema de ejes coordenados cartesiano\n",
    "\n",
    "np.dot(SistemaCoordenado,coordenadasOrg) # Como se vería el punto (x,y) en el plano cartesiano"
   ]
  },
  {
   "cell_type": "markdown",
   "metadata": {},
   "source": [
    "### nuevas coordenadas\n",
    "$${\\displaystyle {\\begin{bmatrix}x'\\\\y'\\\\\\end{bmatrix}}={\\begin{bmatrix}\\cos \\theta &-\\sin \\theta \\\\\\sin \\theta &\\cos \\theta \\\\\\end{bmatrix}}{\\begin{bmatrix}x\\\\y\\\\\\end{bmatrix}}}$$"
   ]
  },
  {
   "cell_type": "code",
   "execution_count": 36,
   "metadata": {},
   "outputs": [
    {
     "output_type": "execute_result",
     "data": {
      "text/plain": "array([[0.59807621],\n       [4.96410162]])"
     },
     "metadata": {},
     "execution_count": 36
    }
   ],
   "source": [
    "radians=np.deg2rad(30) # conversión de grados a radianes\n",
    "\n",
    "#Matríz de rotación\n",
    "SistemaCoordenado2=np.array([[np.cos(radians),-np.sin(radians)],[np.sin(radians),np.cos(radians)]])\n",
    "\n",
    "np.dot(SistemaCoordenado2,coordenadasOrg) # Como se vería, rotando {randians} "
   ]
  },
  {
   "cell_type": "markdown",
   "metadata": {},
   "source": [
    "### Propiedades\n",
    "$${\\displaystyle R^{T}=R^{-1}\\quad {\\text{y}}\\quad \\det R=1.}$$\n"
   ]
  },
  {
   "cell_type": "markdown",
   "metadata": {},
   "source": [
    "## Rotaciones básicas\n",
    "$${\\displaystyle {\\begin{alignedat}{1}R_{x}(\\theta )&={\\begin{bmatrix}1&0&0\\\\0&\\cos \\theta &-\\operatorname {sen} \\theta \\\\[3pt]0&\\operatorname {sen} \\theta &\\cos \\theta \\\\[3pt]\\end{bmatrix}}\\\\[6pt]R_{y}(\\theta )&={\\begin{bmatrix}\\cos \\theta &0&\\operatorname {sen} \\theta \\\\[3pt]0&1&0\\\\[3pt]-\\operatorname {sen} \\theta &0&\\cos \\theta \\\\\\end{bmatrix}}\\\\[6pt]R_{z}(\\theta )&={\\begin{bmatrix}\\cos \\theta &-\\operatorname {sen} \\theta &0\\\\[3pt]\\operatorname {sen} \\theta &\\cos \\theta &0\\\\[3pt]0&0&1\\\\\\end{bmatrix}}\\end{alignedat}}}$$\n"
   ]
  },
  {
   "cell_type": "markdown",
   "metadata": {},
   "source": [
    "### Rotación en eje arbitrario\n",
    "$${\\displaystyle R={\\begin{bmatrix}\\cos \\theta +u_{x}^{2}\\left(1-\\cos \\theta \\right)&u_{x}u_{y}\\left(1-\\cos \\theta \\right)-u_{z}\\sin \\theta &u_{x}u_{z}\\left(1-\\cos \\theta \\right)+u_{y}\\sin \\theta \\\\u_{y}u_{x}\\left(1-\\cos \\theta \\right)+u_{z}\\sin \\theta &\\cos \\theta +u_{y}^{2}\\left(1-\\cos \\theta \\right)&u_{y}u_{z}\\left(1-\\cos \\theta \\right)-u_{x}\\sin \\theta \\\\u_{z}u_{x}\\left(1-\\cos \\theta \\right)-u_{y}\\sin \\theta &u_{z}u_{y}\\left(1-\\cos \\theta \\right)+u_{x}\\sin \\theta &\\cos \\theta +u_{z}^{2}\\left(1-\\cos \\theta \\right)\\end{bmatrix}}.}$$"
   ]
  },
  {
   "cell_type": "code",
   "execution_count": null,
   "metadata": {},
   "outputs": [],
   "source": []
  }
 ]
}